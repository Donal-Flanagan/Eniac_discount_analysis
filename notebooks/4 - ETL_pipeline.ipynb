{
 "cells": [
  {
   "cell_type": "markdown",
   "id": "234f7900-acde-4a57-9987-c2a183de4380",
   "metadata": {},
   "source": [
    "# Data overview\n",
    "\n",
    "## orders.csv \n",
    "Every row in this file represents an order.\n",
    "\n",
    "* **order_id** – a unique identifier for each order\n",
    "* **created_date** – a timestamp for when the order was created\n",
    "* **total_paid** – the total amount paid by the customer for this order, in euros\n",
    "* **state** –\n",
    "    * “Shopping basket” - products have been placed in the shopping basket\n",
    "    - “Place Order” – the order has been placed, but is awaiting shipment details \n",
    "    - “Pending” – the order is awaiting payment confirmation\n",
    "    - “Completed” – the order has been placed and paid, and the transaction is completed.\n",
    "    - “Cancelled” – the order has been cancelled and the payment returned to the customer.\n",
    "\n",
    "## orderlines.csv \n",
    "Every row represents each one of the different products involved in an order.\n",
    "\n",
    "* **id** – a unique identifier for each row in this file\n",
    "* **id_order** – corresponds to orders.order_id\n",
    "* **product_id** – an old identifier for each product, nowadays not in use\n",
    "* **product_quantity** – how many units of that product were purchased on that order\n",
    "* **sku** – stock keeping unit: a unique identifier for each product\n",
    "* **unit_price** – the unitary price (in euros) of each product at the moment of placing that order\n",
    "* **date** – timestamp for the processing of that product\n",
    "\n",
    "## products.csv\n",
    "\n",
    "* **sku** – stock keeping unit: a unique identifier for each product\n",
    "* **name** – product name\n",
    "* **desc** – product description\n",
    "* **price** – base price of the product, in euros\n",
    "* **promo_price** – promotional price, in euros\n",
    "* **in_stock** – whether or not the product was in stock at the moment of the data extraction\n",
    "* **type** – a numerical code for product type\n",
    "\n",
    "## brands.csv\n",
    "\n",
    "* **short** – the 3-character code by which the brand can be identified in the first 3 characters of products.sku\n",
    "* **long** – brand name"
   ]
  },
  {
   "cell_type": "markdown",
   "id": "c5e55db8-121a-4f05-812a-94ce9db75cfc",
   "metadata": {},
   "source": [
    "# Data cleaning"
   ]
  },
  {
   "cell_type": "code",
   "execution_count": 1,
   "id": "ec615341-71af-4597-8778-af60e17b39c6",
   "metadata": {},
   "outputs": [
    {
     "name": "stdout",
     "output_type": "stream",
     "text": [
      "5 missing values were removed from orders.\n",
      "This represents 0.0022% of the data.\n",
      "\n",
      "\n",
      "0 missing values were removed from orderlines.\n",
      "This represents 0.00% of the data.\n",
      "\n",
      "\n",
      "8792 missing values were removed from products\n",
      "This represents 45.49% of the data.\n",
      "\n",
      "\n",
      "0 missing values were removed from brands.\n",
      "This represents 0.00% of the data.\n",
      "\n",
      "\n"
     ]
    }
   ],
   "source": [
    "import data_utils\n",
    "\n",
    "# Import the data\n",
    "orders = data_utils.clean_orders()\n",
    "orderlines = data_utils.clean_orderlines()\n",
    "products = data_utils.clean_products()\n",
    "brands = data_utils.clean_brands()\n",
    "\n",
    "# Merge the data\n",
    "completed_sales =  data_utils.merge_data(orders, orderlines, products, brands)"
   ]
  },
  {
   "cell_type": "code",
   "execution_count": null,
   "id": "2771d5b1-45b0-4695-9c3c-f5b2da77baaa",
   "metadata": {},
   "outputs": [],
   "source": []
  }
 ],
 "metadata": {
  "kernelspec": {
   "display_name": "Python 3 (ipykernel)",
   "language": "python",
   "name": "python3"
  },
  "language_info": {
   "codemirror_mode": {
    "name": "ipython",
    "version": 3
   },
   "file_extension": ".py",
   "mimetype": "text/x-python",
   "name": "python",
   "nbconvert_exporter": "python",
   "pygments_lexer": "ipython3",
   "version": "3.12.4"
  }
 },
 "nbformat": 4,
 "nbformat_minor": 5
}
