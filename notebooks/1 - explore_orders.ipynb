{
 "cells": [
  {
   "cell_type": "markdown",
   "id": "339a9667-11f5-473b-a185-bd22aad5409f",
   "metadata": {},
   "source": [
    "# orders.csv \n",
    "Every row in this file represents an order.\n",
    "\n",
    "* **order_id** – a unique identifier for each order\n",
    "* **created_date** – a timestamp for when the order was created\n",
    "* **total_paid** – the total amount paid by the customer for this order, in euros\n",
    "* **state** –\n",
    "    * “Shopping basket” - products have been placed in the shopping basket\n",
    "    - “Place Order” – the order has been placed, but is awaiting shipment details \n",
    "    - “Pending” – the order is awaiting payment confirmation\n",
    "    - “Completed” – the order has been placed and paid, and the transaction is completed.\n",
    "    - “Cancelled” – the order has been cancelled and the payment returned to the customer."
   ]
  },
  {
   "cell_type": "markdown",
   "id": "a45b930e-6cb5-42e2-a1f9-24616604a71b",
   "metadata": {},
   "source": [
    "## Import the data"
   ]
  },
  {
   "cell_type": "code",
   "execution_count": 92,
   "id": "e6ef37c3-f594-4ee7-b189-887101274b74",
   "metadata": {},
   "outputs": [
    {
     "data": {
      "text/html": [
       "<div>\n",
       "<style scoped>\n",
       "    .dataframe tbody tr th:only-of-type {\n",
       "        vertical-align: middle;\n",
       "    }\n",
       "\n",
       "    .dataframe tbody tr th {\n",
       "        vertical-align: top;\n",
       "    }\n",
       "\n",
       "    .dataframe thead th {\n",
       "        text-align: right;\n",
       "    }\n",
       "</style>\n",
       "<table border=\"1\" class=\"dataframe\">\n",
       "  <thead>\n",
       "    <tr style=\"text-align: right;\">\n",
       "      <th></th>\n",
       "      <th>order_id</th>\n",
       "      <th>created_date</th>\n",
       "      <th>total_paid</th>\n",
       "      <th>state</th>\n",
       "    </tr>\n",
       "  </thead>\n",
       "  <tbody>\n",
       "    <tr>\n",
       "      <th>0</th>\n",
       "      <td>241319</td>\n",
       "      <td>2017-01-02 13:35:40</td>\n",
       "      <td>44.99</td>\n",
       "      <td>Cancelled</td>\n",
       "    </tr>\n",
       "    <tr>\n",
       "      <th>1</th>\n",
       "      <td>241423</td>\n",
       "      <td>2017-11-06 13:10:02</td>\n",
       "      <td>136.15</td>\n",
       "      <td>Completed</td>\n",
       "    </tr>\n",
       "    <tr>\n",
       "      <th>2</th>\n",
       "      <td>242832</td>\n",
       "      <td>2017-12-31 17:40:03</td>\n",
       "      <td>15.76</td>\n",
       "      <td>Completed</td>\n",
       "    </tr>\n",
       "    <tr>\n",
       "      <th>3</th>\n",
       "      <td>243330</td>\n",
       "      <td>2017-02-16 10:59:38</td>\n",
       "      <td>84.98</td>\n",
       "      <td>Completed</td>\n",
       "    </tr>\n",
       "    <tr>\n",
       "      <th>4</th>\n",
       "      <td>243784</td>\n",
       "      <td>2017-11-24 13:35:19</td>\n",
       "      <td>157.86</td>\n",
       "      <td>Cancelled</td>\n",
       "    </tr>\n",
       "  </tbody>\n",
       "</table>\n",
       "</div>"
      ],
      "text/plain": [
       "   order_id         created_date  total_paid      state\n",
       "0    241319  2017-01-02 13:35:40       44.99  Cancelled\n",
       "1    241423  2017-11-06 13:10:02      136.15  Completed\n",
       "2    242832  2017-12-31 17:40:03       15.76  Completed\n",
       "3    243330  2017-02-16 10:59:38       84.98  Completed\n",
       "4    243784  2017-11-24 13:35:19      157.86  Cancelled"
      ]
     },
     "execution_count": 92,
     "metadata": {},
     "output_type": "execute_result"
    }
   ],
   "source": [
    "import pandas as pd\n",
    "import numpy as np\n",
    "import re\n",
    "\n",
    "pd.options.display.max_rows = 500\n",
    "\n",
    "orders = pd.read_csv('../data/orders.csv')\n",
    "orders.head()"
   ]
  },
  {
   "cell_type": "markdown",
   "id": "d1f4af95-7510-4e44-913d-5b6855a68e35",
   "metadata": {},
   "source": [
    "## Data exploration"
   ]
  },
  {
   "cell_type": "code",
   "execution_count": 93,
   "id": "6070fa97-6cc3-4caf-a599-0234020840e4",
   "metadata": {},
   "outputs": [
    {
     "name": "stdout",
     "output_type": "stream",
     "text": [
      "<class 'pandas.core.frame.DataFrame'>\n",
      "RangeIndex: 226909 entries, 0 to 226908\n",
      "Data columns (total 4 columns):\n",
      " #   Column        Non-Null Count   Dtype  \n",
      "---  ------        --------------   -----  \n",
      " 0   order_id      226909 non-null  int64  \n",
      " 1   created_date  226909 non-null  object \n",
      " 2   total_paid    226904 non-null  float64\n",
      " 3   state         226909 non-null  object \n",
      "dtypes: float64(1), int64(1), object(2)\n",
      "memory usage: 6.9+ MB\n"
     ]
    }
   ],
   "source": [
    "orders.info()"
   ]
  },
  {
   "cell_type": "markdown",
   "id": "07b1eadd-fef5-4eda-a417-c145390bb52d",
   "metadata": {},
   "source": [
    "<div class=\"alert alert-block alert-danger\">\n",
    "    One variable need to be modified: \n",
    "    <br>\n",
    "    <span>&#8226;</span>  <b>created_date</b>: needs to be transformed to a date time format.\n",
    "</div>"
   ]
  },
  {
   "cell_type": "code",
   "execution_count": 94,
   "id": "1cf47e0a-7eb3-464e-91ed-1234160c2385",
   "metadata": {},
   "outputs": [
    {
     "data": {
      "text/html": [
       "<div>\n",
       "<style scoped>\n",
       "    .dataframe tbody tr th:only-of-type {\n",
       "        vertical-align: middle;\n",
       "    }\n",
       "\n",
       "    .dataframe tbody tr th {\n",
       "        vertical-align: top;\n",
       "    }\n",
       "\n",
       "    .dataframe thead th {\n",
       "        text-align: right;\n",
       "    }\n",
       "</style>\n",
       "<table border=\"1\" class=\"dataframe\">\n",
       "  <thead>\n",
       "    <tr style=\"text-align: right;\">\n",
       "      <th></th>\n",
       "      <th>order_id</th>\n",
       "      <th>created_date</th>\n",
       "      <th>total_paid</th>\n",
       "    </tr>\n",
       "  </thead>\n",
       "  <tbody>\n",
       "    <tr>\n",
       "      <th>count</th>\n",
       "      <td>226909.000000</td>\n",
       "      <td>226909</td>\n",
       "      <td>226904.000000</td>\n",
       "    </tr>\n",
       "    <tr>\n",
       "      <th>mean</th>\n",
       "      <td>413296.482480</td>\n",
       "      <td>2017-09-06 15:00:34.791753472</td>\n",
       "      <td>569.225818</td>\n",
       "    </tr>\n",
       "    <tr>\n",
       "      <th>min</th>\n",
       "      <td>241319.000000</td>\n",
       "      <td>2017-01-01 00:07:19</td>\n",
       "      <td>0.000000</td>\n",
       "    </tr>\n",
       "    <tr>\n",
       "      <th>25%</th>\n",
       "      <td>356263.000000</td>\n",
       "      <td>2017-05-17 08:18:59</td>\n",
       "      <td>34.190000</td>\n",
       "    </tr>\n",
       "    <tr>\n",
       "      <th>50%</th>\n",
       "      <td>413040.000000</td>\n",
       "      <td>2017-10-16 21:11:16</td>\n",
       "      <td>112.990000</td>\n",
       "    </tr>\n",
       "    <tr>\n",
       "      <th>75%</th>\n",
       "      <td>470553.000000</td>\n",
       "      <td>2017-12-24 15:52:56</td>\n",
       "      <td>525.980000</td>\n",
       "    </tr>\n",
       "    <tr>\n",
       "      <th>max</th>\n",
       "      <td>527401.000000</td>\n",
       "      <td>2018-03-14 13:58:36</td>\n",
       "      <td>214747.530000</td>\n",
       "    </tr>\n",
       "    <tr>\n",
       "      <th>std</th>\n",
       "      <td>65919.250331</td>\n",
       "      <td>NaN</td>\n",
       "      <td>1761.778002</td>\n",
       "    </tr>\n",
       "  </tbody>\n",
       "</table>\n",
       "</div>"
      ],
      "text/plain": [
       "            order_id                   created_date     total_paid\n",
       "count  226909.000000                         226909  226904.000000\n",
       "mean   413296.482480  2017-09-06 15:00:34.791753472     569.225818\n",
       "min    241319.000000            2017-01-01 00:07:19       0.000000\n",
       "25%    356263.000000            2017-05-17 08:18:59      34.190000\n",
       "50%    413040.000000            2017-10-16 21:11:16     112.990000\n",
       "75%    470553.000000            2017-12-24 15:52:56     525.980000\n",
       "max    527401.000000            2018-03-14 13:58:36  214747.530000\n",
       "std     65919.250331                            NaN    1761.778002"
      ]
     },
     "execution_count": 94,
     "metadata": {},
     "output_type": "execute_result"
    }
   ],
   "source": [
    "orders['created_date'] = pd.to_datetime(orders['created_date'])\n",
    "orders.describe()"
   ]
  },
  {
   "cell_type": "code",
   "execution_count": 95,
   "id": "6296ad23-7d76-4ca7-af4e-d625f31e2148",
   "metadata": {},
   "outputs": [
    {
     "data": {
      "text/plain": [
       "order_id        226909\n",
       "created_date    224828\n",
       "total_paid       31236\n",
       "state                5\n",
       "dtype: int64"
      ]
     },
     "execution_count": 95,
     "metadata": {},
     "output_type": "execute_result"
    }
   ],
   "source": [
    "orders.nunique()"
   ]
  },
  {
   "cell_type": "code",
   "execution_count": 96,
   "id": "89b95e3b-23bc-409b-a32d-651c438600a6",
   "metadata": {},
   "outputs": [
    {
     "data": {
      "text/plain": [
       "order_id        0\n",
       "created_date    0\n",
       "total_paid      5\n",
       "state           0\n",
       "dtype: int64"
      ]
     },
     "execution_count": 96,
     "metadata": {},
     "output_type": "execute_result"
    }
   ],
   "source": [
    "orders.isna().sum()"
   ]
  },
  {
   "cell_type": "code",
   "execution_count": 97,
   "id": "d8a46384-058a-4ab1-9a4b-af9f8f7e99c9",
   "metadata": {},
   "outputs": [
    {
     "data": {
      "text/html": [
       "<div>\n",
       "<style scoped>\n",
       "    .dataframe tbody tr th:only-of-type {\n",
       "        vertical-align: middle;\n",
       "    }\n",
       "\n",
       "    .dataframe tbody tr th {\n",
       "        vertical-align: top;\n",
       "    }\n",
       "\n",
       "    .dataframe thead th {\n",
       "        text-align: right;\n",
       "    }\n",
       "</style>\n",
       "<table border=\"1\" class=\"dataframe\">\n",
       "  <thead>\n",
       "    <tr style=\"text-align: right;\">\n",
       "      <th></th>\n",
       "      <th>order_id</th>\n",
       "      <th>created_date</th>\n",
       "      <th>total_paid</th>\n",
       "      <th>state</th>\n",
       "    </tr>\n",
       "  </thead>\n",
       "  <tbody>\n",
       "    <tr>\n",
       "      <th>127701</th>\n",
       "      <td>427314</td>\n",
       "      <td>2017-11-20 18:54:39</td>\n",
       "      <td>NaN</td>\n",
       "      <td>Pending</td>\n",
       "    </tr>\n",
       "    <tr>\n",
       "      <th>132013</th>\n",
       "      <td>431655</td>\n",
       "      <td>2017-11-22 12:15:24</td>\n",
       "      <td>NaN</td>\n",
       "      <td>Pending</td>\n",
       "    </tr>\n",
       "    <tr>\n",
       "      <th>147316</th>\n",
       "      <td>447411</td>\n",
       "      <td>2017-11-27 10:32:37</td>\n",
       "      <td>NaN</td>\n",
       "      <td>Pending</td>\n",
       "    </tr>\n",
       "    <tr>\n",
       "      <th>148833</th>\n",
       "      <td>448966</td>\n",
       "      <td>2017-11-27 18:54:15</td>\n",
       "      <td>NaN</td>\n",
       "      <td>Pending</td>\n",
       "    </tr>\n",
       "    <tr>\n",
       "      <th>149434</th>\n",
       "      <td>449596</td>\n",
       "      <td>2017-11-27 21:52:08</td>\n",
       "      <td>NaN</td>\n",
       "      <td>Pending</td>\n",
       "    </tr>\n",
       "  </tbody>\n",
       "</table>\n",
       "</div>"
      ],
      "text/plain": [
       "        order_id        created_date  total_paid    state\n",
       "127701    427314 2017-11-20 18:54:39         NaN  Pending\n",
       "132013    431655 2017-11-22 12:15:24         NaN  Pending\n",
       "147316    447411 2017-11-27 10:32:37         NaN  Pending\n",
       "148833    448966 2017-11-27 18:54:15         NaN  Pending\n",
       "149434    449596 2017-11-27 21:52:08         NaN  Pending"
      ]
     },
     "execution_count": 97,
     "metadata": {},
     "output_type": "execute_result"
    }
   ],
   "source": [
    "orders[orders.total_paid.isna()]"
   ]
  },
  {
   "cell_type": "markdown",
   "id": "898c79e7-fe57-46bc-9523-22de6c53f118",
   "metadata": {},
   "source": [
    "<div class=\"alert alert-block alert-danger\">\n",
    "    There are 5 NaN values in the <b>total_paid</b> column which we should remove.\n",
    "</div>"
   ]
  },
  {
   "cell_type": "code",
   "execution_count": 98,
   "id": "b9699f10-e345-4078-be03-78cecfa46fa7",
   "metadata": {},
   "outputs": [
    {
     "name": "stdout",
     "output_type": "stream",
     "text": [
      "5 rows were removed from orders after removing NaN values\n",
      "This represents 0.0022% of the data\n"
     ]
    }
   ],
   "source": [
    "orders_original = orders.copy()\n",
    "\n",
    "# Remove nan values\n",
    "orders_before = orders.shape[0]\n",
    "orders.dropna(inplace=True)\n",
    "orders_after = orders.shape[0]\n",
    "\n",
    "rows_removed_from_orders = orders_before - orders_after\n",
    "print(f'{rows_removed_from_orders} rows were removed from orders after removing NaN values')\n",
    "print(f'This represents {round(rows_removed_from_orders/orders_before*100, 4)}% of the data')"
   ]
  },
  {
   "cell_type": "code",
   "execution_count": 99,
   "id": "704d0e4b-2a1f-4a83-bcd2-379bbc6d0106",
   "metadata": {},
   "outputs": [
    {
     "data": {
      "text/plain": [
       "0"
      ]
     },
     "execution_count": 99,
     "metadata": {},
     "output_type": "execute_result"
    }
   ],
   "source": [
    "orders.duplicated().sum() # parameters keep=False\n",
    "# df.drop_duplicates()"
   ]
  },
  {
   "cell_type": "markdown",
   "id": "8a9a6dde-623a-4082-bb6a-dcc7d0a316b6",
   "metadata": {},
   "source": [
    "## Compare data with orderlines to ensure data consistency"
   ]
  },
  {
   "cell_type": "code",
   "execution_count": 110,
   "id": "65079d12-e504-44c2-980b-7737c1c6fb30",
   "metadata": {},
   "outputs": [],
   "source": [
    "orderlines = pd.read_csv('../data/orderlines.csv', \n",
    "                         dtype={'id': int, \n",
    "                                'id_order': int, \n",
    "                                'product_id': int,\n",
    "                                'sku': str, \n",
    "                                'unit_price': str}, \n",
    "                         parse_dates=['date'])"
   ]
  },
  {
   "cell_type": "code",
   "execution_count": 101,
   "id": "9ac088cf-c68d-40c4-8597-aa598afcee37",
   "metadata": {},
   "outputs": [
    {
     "data": {
      "text/html": [
       "<div>\n",
       "<style scoped>\n",
       "    .dataframe tbody tr th:only-of-type {\n",
       "        vertical-align: middle;\n",
       "    }\n",
       "\n",
       "    .dataframe tbody tr th {\n",
       "        vertical-align: top;\n",
       "    }\n",
       "\n",
       "    .dataframe thead th {\n",
       "        text-align: right;\n",
       "    }\n",
       "</style>\n",
       "<table border=\"1\" class=\"dataframe\">\n",
       "  <thead>\n",
       "    <tr style=\"text-align: right;\">\n",
       "      <th></th>\n",
       "      <th>order_id</th>\n",
       "      <th>created_date</th>\n",
       "      <th>total_paid</th>\n",
       "      <th>state</th>\n",
       "    </tr>\n",
       "  </thead>\n",
       "  <tbody>\n",
       "    <tr>\n",
       "      <th>0</th>\n",
       "      <td>241319</td>\n",
       "      <td>2017-01-02 13:35:40</td>\n",
       "      <td>44.99</td>\n",
       "      <td>Cancelled</td>\n",
       "    </tr>\n",
       "    <tr>\n",
       "      <th>1</th>\n",
       "      <td>241423</td>\n",
       "      <td>2017-11-06 13:10:02</td>\n",
       "      <td>136.15</td>\n",
       "      <td>Completed</td>\n",
       "    </tr>\n",
       "    <tr>\n",
       "      <th>2</th>\n",
       "      <td>242832</td>\n",
       "      <td>2017-12-31 17:40:03</td>\n",
       "      <td>15.76</td>\n",
       "      <td>Completed</td>\n",
       "    </tr>\n",
       "    <tr>\n",
       "      <th>3</th>\n",
       "      <td>243330</td>\n",
       "      <td>2017-02-16 10:59:38</td>\n",
       "      <td>84.98</td>\n",
       "      <td>Completed</td>\n",
       "    </tr>\n",
       "    <tr>\n",
       "      <th>4</th>\n",
       "      <td>243784</td>\n",
       "      <td>2017-11-24 13:35:19</td>\n",
       "      <td>157.86</td>\n",
       "      <td>Cancelled</td>\n",
       "    </tr>\n",
       "    <tr>\n",
       "      <th>...</th>\n",
       "      <td>...</td>\n",
       "      <td>...</td>\n",
       "      <td>...</td>\n",
       "      <td>...</td>\n",
       "    </tr>\n",
       "    <tr>\n",
       "      <th>226904</th>\n",
       "      <td>527397</td>\n",
       "      <td>2018-03-14 13:56:38</td>\n",
       "      <td>42.99</td>\n",
       "      <td>Place Order</td>\n",
       "    </tr>\n",
       "    <tr>\n",
       "      <th>226905</th>\n",
       "      <td>527398</td>\n",
       "      <td>2018-03-14 13:57:25</td>\n",
       "      <td>42.99</td>\n",
       "      <td>Shopping Basket</td>\n",
       "    </tr>\n",
       "    <tr>\n",
       "      <th>226906</th>\n",
       "      <td>527399</td>\n",
       "      <td>2018-03-14 13:57:34</td>\n",
       "      <td>141.58</td>\n",
       "      <td>Shopping Basket</td>\n",
       "    </tr>\n",
       "    <tr>\n",
       "      <th>226907</th>\n",
       "      <td>527400</td>\n",
       "      <td>2018-03-14 13:57:41</td>\n",
       "      <td>19.98</td>\n",
       "      <td>Shopping Basket</td>\n",
       "    </tr>\n",
       "    <tr>\n",
       "      <th>226908</th>\n",
       "      <td>527401</td>\n",
       "      <td>2018-03-14 13:58:36</td>\n",
       "      <td>18.98</td>\n",
       "      <td>Place Order</td>\n",
       "    </tr>\n",
       "  </tbody>\n",
       "</table>\n",
       "<p>226904 rows × 4 columns</p>\n",
       "</div>"
      ],
      "text/plain": [
       "        order_id        created_date  total_paid            state\n",
       "0         241319 2017-01-02 13:35:40       44.99        Cancelled\n",
       "1         241423 2017-11-06 13:10:02      136.15        Completed\n",
       "2         242832 2017-12-31 17:40:03       15.76        Completed\n",
       "3         243330 2017-02-16 10:59:38       84.98        Completed\n",
       "4         243784 2017-11-24 13:35:19      157.86        Cancelled\n",
       "...          ...                 ...         ...              ...\n",
       "226904    527397 2018-03-14 13:56:38       42.99      Place Order\n",
       "226905    527398 2018-03-14 13:57:25       42.99  Shopping Basket\n",
       "226906    527399 2018-03-14 13:57:34      141.58  Shopping Basket\n",
       "226907    527400 2018-03-14 13:57:41       19.98  Shopping Basket\n",
       "226908    527401 2018-03-14 13:58:36       18.98      Place Order\n",
       "\n",
       "[226904 rows x 4 columns]"
      ]
     },
     "execution_count": 101,
     "metadata": {},
     "output_type": "execute_result"
    }
   ],
   "source": [
    "orders"
   ]
  },
  {
   "cell_type": "code",
   "execution_count": 102,
   "id": "5091c713-f043-49c4-b33b-91684de01bd9",
   "metadata": {},
   "outputs": [
    {
     "name": "stdout",
     "output_type": "stream",
     "text": [
      "There are 22213 order IDs in 'orders' that are not in 'orderlines'.\n"
     ]
    }
   ],
   "source": [
    "# Find order_id values in orders that are not in orderlines\n",
    "orders_not_in_orderlines = orders[~orders['order_id'].isin(orderlines['id_order'])]\n",
    "\n",
    "print(f\"There are {orders_not_in_orderlines.shape[0]} order IDs in 'orders' that are not in 'orderlines'.\")"
   ]
  },
  {
   "cell_type": "code",
   "execution_count": 103,
   "id": "2e41137d-d91e-4013-9e35-52a522885375",
   "metadata": {},
   "outputs": [
    {
     "data": {
      "text/plain": [
       "state\n",
       "Place Order        12304\n",
       "Shopping Basket     9810\n",
       "Completed             45\n",
       "Cancelled             41\n",
       "Pending               13\n",
       "Name: count, dtype: int64"
      ]
     },
     "execution_count": 103,
     "metadata": {},
     "output_type": "execute_result"
    }
   ],
   "source": [
    "orders_not_in_orderlines.state.value_counts()"
   ]
  },
  {
   "cell_type": "code",
   "execution_count": 104,
   "id": "b14d3f4b-da18-44f0-9a86-c7108421ecb1",
   "metadata": {},
   "outputs": [
    {
     "name": "stdout",
     "output_type": "stream",
     "text": [
      "There are 240 order IDs in 'orderlines' that are not in 'orders'.\n"
     ]
    }
   ],
   "source": [
    "# Find id_order values in orderlines that are not in orders\n",
    "orderlines_not_in_orders = orderlines[~orderlines['id_order'].isin(orders['order_id'])]\n",
    "\n",
    "print(f\"There are {orderlines_not_in_orders.shape[0]} order IDs in 'orderlines' that are not in 'orders'.\")"
   ]
  },
  {
   "cell_type": "markdown",
   "id": "bd36f4f2-5c65-4cbb-887b-0f2411c7b77e",
   "metadata": {},
   "source": [
    "**After** cleaning `orders` we will have to remove any rows which do not have a corresponding order ID in `order_lines` and then **before** cleaning `order_lines` we will remove and rows which do not have a corresponding order ID in `orders`\n",
    "\n",
    "<div class=\"alert alert-block alert-info\">\n",
    "     <br>\n",
    "     <b>After</b>  we will have to remove any rows which do not have a corresponding order ID in <b>order_lines</b>  and then <b>before</b>  cleaning <b>order_lines</b>  we will remove and rows which do not have a corresponding order ID in <b>orders</b>\n",
    "    \n",
    "</div>"
   ]
  },
  {
   "cell_type": "markdown",
   "id": "089c458f-4e86-4a4d-83ef-462305e839ca",
   "metadata": {},
   "source": [
    "## Data cleaning"
   ]
  },
  {
   "cell_type": "code",
   "execution_count": 105,
   "id": "da1eee37-8967-4303-aad6-0407e1807839",
   "metadata": {},
   "outputs": [
    {
     "name": "stdout",
     "output_type": "stream",
     "text": [
      "(226909, 4)\n",
      "5 rows were removed from orders after removing NaN values\n",
      "This represents 0.0% of the data\n",
      "\n",
      "\n",
      "22213 rows were removed from orders after removing order_ids which do not exist in orderlines\n",
      "This represents 9.79% of the data\n"
     ]
    },
    {
     "data": {
      "text/plain": [
       "(204691, 4)"
      ]
     },
     "execution_count": 105,
     "metadata": {},
     "output_type": "execute_result"
    }
   ],
   "source": [
    "orders = orders_original.copy()\n",
    "print(orders.shape)\n",
    "\n",
    "# Remove nan values\n",
    "orders_before = orders.shape[0]\n",
    "orders.dropna(inplace=True)\n",
    "orders_after = orders.shape[0]\n",
    "\n",
    "rows_removed_from_orders = orders_before - orders_after\n",
    "print(f'{rows_removed_from_orders} rows were removed from orders after removing NaN values')\n",
    "print(f'This represents {round(rows_removed_from_orders/orders_before*100, 2)}% of the data')\n",
    "\n",
    "# Remove 22213 order ids in orders that aren't in orderlines\n",
    "orders_before = orders.shape[0]\n",
    "orders = orders[orders.order_id.isin(orderlines_original.id_order)]\n",
    "orders_after = orders.shape[0]\n",
    "rows_removed_from_orders = orders_before - orders_after\n",
    "\n",
    "# Of the order ids in orders but not in orderlines, 12304 orders have state = Place Order and \n",
    "# 9810 have state = Shopping Basket for a total of 22114.\n",
    "# There are a total of 40883 orders with state = Place Order and 117809 with state = Shopping Basket.\n",
    "print('\\n')\n",
    "print(f'{rows_removed_from_orders} rows were removed from orders after removing order_ids which do not exist in orderlines')\n",
    "print(f'This represents {rows_removed_from_orders/orders_before*100:.2f}% of the data')\n",
    "\n",
    "orders.created_date.dt.minute\n",
    "\n",
    "#orders.to_csv(path + 'orders_clean.csv', index=False)\n",
    "orders.shape\n"
   ]
  },
  {
   "cell_type": "code",
   "execution_count": 106,
   "id": "110f372d-9a5d-4dc2-a081-a471d9ee39b0",
   "metadata": {},
   "outputs": [
    {
     "name": "stdout",
     "output_type": "stream",
     "text": [
      "(226909, 4)\n"
     ]
    },
    {
     "data": {
      "text/plain": [
       "(204691, 4)"
      ]
     },
     "execution_count": 106,
     "metadata": {},
     "output_type": "execute_result"
    }
   ],
   "source": [
    "def start_pipeline(df):\n",
    "    '''Make a copy of the pipeline to prevent corrupting the original data'''\n",
    "    return df.copy()\n",
    "\n",
    "def remove_missing_data(df, col):\n",
    "    return df[~df[col].isna()]\n",
    "\n",
    "def drop_unmatched_rows(df, comparison_df, col, comparison_col):\n",
    "    return df[df[col].isin(comparison_df[comparison_col])]\n",
    "    \n",
    "\n",
    "print(orders_original.shape)\n",
    "orders_clean = (orders_original\n",
    "        .pipe(start_pipeline)\n",
    "        .pipe(remove_missing_data, col='total_paid')\n",
    "        .pipe(drop_unmatched_rows, comparison_df=orderlines, col='order_id', comparison_col='id_order')\n",
    ")\n",
    "orders_clean.shape"
   ]
  },
  {
   "cell_type": "code",
   "execution_count": null,
   "id": "91286da8-c1a7-4c4e-be03-5a6314ea82d8",
   "metadata": {},
   "outputs": [],
   "source": []
  }
 ],
 "metadata": {
  "kernelspec": {
   "display_name": "Python 3 (ipykernel)",
   "language": "python",
   "name": "python3"
  },
  "language_info": {
   "codemirror_mode": {
    "name": "ipython",
    "version": 3
   },
   "file_extension": ".py",
   "mimetype": "text/x-python",
   "name": "python",
   "nbconvert_exporter": "python",
   "pygments_lexer": "ipython3",
   "version": "3.12.4"
  }
 },
 "nbformat": 4,
 "nbformat_minor": 5
}
