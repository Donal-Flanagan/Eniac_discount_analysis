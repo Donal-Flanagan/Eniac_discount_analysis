{
 "cells": [
  {
   "cell_type": "code",
   "execution_count": 1,
   "id": "ba2cc9a2-f3c6-400e-88a7-dbdd0b944a22",
   "metadata": {},
   "outputs": [],
   "source": [
    "import re\n",
    "import numpy as np\n",
    "import pandas as pd\n",
    "import sys\n",
    "import os\n",
    "\n",
    "sys.path.append(os.path.abspath(os.path.join(os.getcwd(), '..')))\n",
    "\n",
    "import data_utils\n",
    "import price_debugging_tests as pdt"
   ]
  },
  {
   "cell_type": "markdown",
   "id": "cf4c6e55-109d-4934-a2a0-9c43b33dfc18",
   "metadata": {},
   "source": [
    "## Import and merge data"
   ]
  },
  {
   "cell_type": "code",
   "execution_count": 8,
   "id": "c505abdf-ead3-4e17-94cc-45a34a221dfd",
   "metadata": {},
   "outputs": [
    {
     "name": "stdout",
     "output_type": "stream",
     "text": [
      "5 missing values were removed from orders.\n",
      "This represents 0.0022% of the data.\n",
      "\n",
      "\n",
      "0 missing values were removed from orderlines.\n",
      "This represents 0.00% of the data.\n",
      "\n",
      "\n",
      "8792 missing values were removed from products\n",
      "This represents 45.49% of the data.\n",
      "\n",
      "\n",
      "0 missing values were removed from brands.\n",
      "This represents 0.00% of the data.\n",
      "\n",
      "\n"
     ]
    }
   ],
   "source": [
    "# Import the data\n",
    "orders = data_utils.clean_orders(data_path=\"../../data/\")\n",
    "orderlines = data_utils.clean_orderlines(data_path=\"../../data/\")\n",
    "products = data_utils.clean_products(data_path=\"../../data/\")\n",
    "brands = data_utils.clean_brands(data_path=\"../../data/\")\n",
    "\n",
    "# Merge the data\n",
    "completed_sales =  data_utils.merge_data(orders, orderlines, products, brands)"
   ]
  },
  {
   "cell_type": "markdown",
   "id": "954c188a-5602-44a5-b9b8-2380ece8f4cb",
   "metadata": {},
   "source": [
    "## Explore corrupted decimal values\n",
    "### Count decimal points in price values"
   ]
  },
  {
   "cell_type": "code",
   "execution_count": 4,
   "id": "13db1e62-c3bd-40ed-a8e6-e44b5a93e915",
   "metadata": {},
   "outputs": [
    {
     "data": {
      "text/html": [
       "<div>\n",
       "<style scoped>\n",
       "    .dataframe tbody tr th:only-of-type {\n",
       "        vertical-align: middle;\n",
       "    }\n",
       "\n",
       "    .dataframe tbody tr th {\n",
       "        vertical-align: top;\n",
       "    }\n",
       "\n",
       "    .dataframe thead th {\n",
       "        text-align: right;\n",
       "    }\n",
       "</style>\n",
       "<table border=\"1\" class=\"dataframe\">\n",
       "  <thead>\n",
       "    <tr style=\"text-align: right;\">\n",
       "      <th></th>\n",
       "      <th>orderline_id</th>\n",
       "      <th>total_paid</th>\n",
       "      <th>regular_price</th>\n",
       "      <th>promo_price</th>\n",
       "      <th>sale_price</th>\n",
       "      <th>regular_price_decimal_count</th>\n",
       "      <th>promo_price_decimal_count</th>\n",
       "      <th>sale_price_decimal_count</th>\n",
       "    </tr>\n",
       "  </thead>\n",
       "  <tbody>\n",
       "    <tr>\n",
       "      <th>0</th>\n",
       "      <td>1398738</td>\n",
       "      <td>136.15</td>\n",
       "      <td>139.99</td>\n",
       "      <td>1.149.948</td>\n",
       "      <td>129.16</td>\n",
       "      <td>1</td>\n",
       "      <td>2</td>\n",
       "      <td>1</td>\n",
       "    </tr>\n",
       "    <tr>\n",
       "      <th>1</th>\n",
       "      <td>1529178</td>\n",
       "      <td>15.76</td>\n",
       "      <td>17.99</td>\n",
       "      <td>109.904</td>\n",
       "      <td>10.77</td>\n",
       "      <td>1</td>\n",
       "      <td>1</td>\n",
       "      <td>1</td>\n",
       "    </tr>\n",
       "    <tr>\n",
       "      <th>2</th>\n",
       "      <td>1181923</td>\n",
       "      <td>84.98</td>\n",
       "      <td>99.99</td>\n",
       "      <td>999.896</td>\n",
       "      <td>77.99</td>\n",
       "      <td>1</td>\n",
       "      <td>1</td>\n",
       "      <td>1</td>\n",
       "    </tr>\n",
       "    <tr>\n",
       "      <th>3</th>\n",
       "      <td>1276706</td>\n",
       "      <td>149.00</td>\n",
       "      <td>179</td>\n",
       "      <td>1.489.994</td>\n",
       "      <td>149.00</td>\n",
       "      <td>0</td>\n",
       "      <td>2</td>\n",
       "      <td>1</td>\n",
       "    </tr>\n",
       "    <tr>\n",
       "      <th>4</th>\n",
       "      <td>1154394</td>\n",
       "      <td>112.97</td>\n",
       "      <td>103.95</td>\n",
       "      <td>59.584</td>\n",
       "      <td>52.99</td>\n",
       "      <td>1</td>\n",
       "      <td>1</td>\n",
       "      <td>1</td>\n",
       "    </tr>\n",
       "    <tr>\n",
       "      <th>...</th>\n",
       "      <td>...</td>\n",
       "      <td>...</td>\n",
       "      <td>...</td>\n",
       "      <td>...</td>\n",
       "      <td>...</td>\n",
       "      <td>...</td>\n",
       "      <td>...</td>\n",
       "      <td>...</td>\n",
       "    </tr>\n",
       "    <tr>\n",
       "      <th>61667</th>\n",
       "      <td>1649446</td>\n",
       "      <td>18.98</td>\n",
       "      <td>35</td>\n",
       "      <td>13.99</td>\n",
       "      <td>13.99</td>\n",
       "      <td>0</td>\n",
       "      <td>1</td>\n",
       "      <td>1</td>\n",
       "    </tr>\n",
       "    <tr>\n",
       "      <th>61668</th>\n",
       "      <td>1649512</td>\n",
       "      <td>24.97</td>\n",
       "      <td>25</td>\n",
       "      <td>99.898</td>\n",
       "      <td>9.99</td>\n",
       "      <td>0</td>\n",
       "      <td>1</td>\n",
       "      <td>1</td>\n",
       "    </tr>\n",
       "    <tr>\n",
       "      <th>61669</th>\n",
       "      <td>1649522</td>\n",
       "      <td>24.97</td>\n",
       "      <td>25</td>\n",
       "      <td>99.898</td>\n",
       "      <td>9.99</td>\n",
       "      <td>0</td>\n",
       "      <td>1</td>\n",
       "      <td>1</td>\n",
       "    </tr>\n",
       "    <tr>\n",
       "      <th>61670</th>\n",
       "      <td>1649565</td>\n",
       "      <td>34.96</td>\n",
       "      <td>25</td>\n",
       "      <td>99.898</td>\n",
       "      <td>9.99</td>\n",
       "      <td>0</td>\n",
       "      <td>1</td>\n",
       "      <td>1</td>\n",
       "    </tr>\n",
       "    <tr>\n",
       "      <th>61671</th>\n",
       "      <td>1649593</td>\n",
       "      <td>14.98</td>\n",
       "      <td>25</td>\n",
       "      <td>99.898</td>\n",
       "      <td>9.99</td>\n",
       "      <td>0</td>\n",
       "      <td>1</td>\n",
       "      <td>1</td>\n",
       "    </tr>\n",
       "  </tbody>\n",
       "</table>\n",
       "<p>61672 rows × 8 columns</p>\n",
       "</div>"
      ],
      "text/plain": [
       "       orderline_id  total_paid regular_price promo_price sale_price  \\\n",
       "0           1398738      136.15        139.99   1.149.948     129.16   \n",
       "1           1529178       15.76         17.99     109.904      10.77   \n",
       "2           1181923       84.98         99.99     999.896      77.99   \n",
       "3           1276706      149.00           179   1.489.994     149.00   \n",
       "4           1154394      112.97        103.95      59.584      52.99   \n",
       "...             ...         ...           ...         ...        ...   \n",
       "61667       1649446       18.98            35       13.99      13.99   \n",
       "61668       1649512       24.97            25      99.898       9.99   \n",
       "61669       1649522       24.97            25      99.898       9.99   \n",
       "61670       1649565       34.96            25      99.898       9.99   \n",
       "61671       1649593       14.98            25      99.898       9.99   \n",
       "\n",
       "       regular_price_decimal_count  promo_price_decimal_count  \\\n",
       "0                                1                          2   \n",
       "1                                1                          1   \n",
       "2                                1                          1   \n",
       "3                                0                          2   \n",
       "4                                1                          1   \n",
       "...                            ...                        ...   \n",
       "61667                            0                          1   \n",
       "61668                            0                          1   \n",
       "61669                            0                          1   \n",
       "61670                            0                          1   \n",
       "61671                            0                          1   \n",
       "\n",
       "       sale_price_decimal_count  \n",
       "0                             1  \n",
       "1                             1  \n",
       "2                             1  \n",
       "3                             1  \n",
       "4                             1  \n",
       "...                         ...  \n",
       "61667                         1  \n",
       "61668                         1  \n",
       "61669                         1  \n",
       "61670                         1  \n",
       "61671                         1  \n",
       "\n",
       "[61672 rows x 8 columns]"
      ]
     },
     "execution_count": 4,
     "metadata": {},
     "output_type": "execute_result"
    }
   ],
   "source": [
    "prices = completed_sales[['orderline_id', 'total_paid', 'regular_price', 'promo_price', 'sale_price']].copy()\n",
    "\n",
    "prices['regular_price_decimal_count'] = prices['regular_price'].str.count(r'\\.')\n",
    "prices['promo_price_decimal_count'] = prices['promo_price'].str.count(r'\\.')\n",
    "prices['sale_price_decimal_count'] = prices['sale_price'].str.count(r'\\.')\n",
    "\n",
    "prices"
   ]
  },
  {
   "cell_type": "code",
   "execution_count": 5,
   "id": "e93a7e59-112b-43dc-a605-57913cc3a292",
   "metadata": {},
   "outputs": [
    {
     "data": {
      "text/html": [
       "<div>\n",
       "<style scoped>\n",
       "    .dataframe tbody tr th:only-of-type {\n",
       "        vertical-align: middle;\n",
       "    }\n",
       "\n",
       "    .dataframe tbody tr th {\n",
       "        vertical-align: top;\n",
       "    }\n",
       "\n",
       "    .dataframe thead th {\n",
       "        text-align: right;\n",
       "    }\n",
       "</style>\n",
       "<table border=\"1\" class=\"dataframe\">\n",
       "  <thead>\n",
       "    <tr style=\"text-align: right;\">\n",
       "      <th></th>\n",
       "      <th>regular_price_decimal_count</th>\n",
       "      <th>promo_price_decimal_count</th>\n",
       "      <th>sale_price_decimal_count</th>\n",
       "    </tr>\n",
       "  </thead>\n",
       "  <tbody>\n",
       "    <tr>\n",
       "      <th>0</th>\n",
       "      <td>18611</td>\n",
       "      <td>877</td>\n",
       "      <td>NaN</td>\n",
       "    </tr>\n",
       "    <tr>\n",
       "      <th>1</th>\n",
       "      <td>42264</td>\n",
       "      <td>40066</td>\n",
       "      <td>58120.0</td>\n",
       "    </tr>\n",
       "    <tr>\n",
       "      <th>2</th>\n",
       "      <td>797</td>\n",
       "      <td>20729</td>\n",
       "      <td>3552.0</td>\n",
       "    </tr>\n",
       "  </tbody>\n",
       "</table>\n",
       "</div>"
      ],
      "text/plain": [
       "   regular_price_decimal_count  promo_price_decimal_count  \\\n",
       "0                        18611                        877   \n",
       "1                        42264                      40066   \n",
       "2                          797                      20729   \n",
       "\n",
       "   sale_price_decimal_count  \n",
       "0                       NaN  \n",
       "1                   58120.0  \n",
       "2                    3552.0  "
      ]
     },
     "execution_count": 5,
     "metadata": {},
     "output_type": "execute_result"
    }
   ],
   "source": [
    "prices[['regular_price_decimal_count', 'promo_price_decimal_count', 'sale_price_decimal_count']].apply(pd.Series.value_counts)"
   ]
  },
  {
   "cell_type": "markdown",
   "id": "adf8e012-01fb-4821-bc4b-7f4684723baa",
   "metadata": {},
   "source": [
    "<div class=\"alert alert-block alert-info\">\n",
    "    total_paid is the only price column which does not have corrupted data. \n",
    "    <br>\n",
    "    It may be that we can use this column to determine the correct positions of the decimal points in the other price columns.\n",
    "</div>"
   ]
  },
  {
   "cell_type": "markdown",
   "id": "6b14849a-df2c-410f-83c5-06c97499d901",
   "metadata": {},
   "source": [
    "### Check sale_price"
   ]
  },
  {
   "cell_type": "code",
   "execution_count": 1,
   "id": "c12ed89d-e60b-4f16-80d7-f3a89743e57b",
   "metadata": {},
   "outputs": [
    {
     "ename": "NameError",
     "evalue": "name 'prices' is not defined",
     "output_type": "error",
     "traceback": [
      "\u001b[0;31m---------------------------------------------------------------------------\u001b[0m",
      "\u001b[0;31mNameError\u001b[0m                                 Traceback (most recent call last)",
      "Cell \u001b[0;32mIn[1], line 1\u001b[0m\n\u001b[0;32m----> 1\u001b[0m temp \u001b[38;5;241m=\u001b[39m prices\u001b[38;5;241m.\u001b[39mcopy()\n\u001b[1;32m      2\u001b[0m temp[temp\u001b[38;5;241m.\u001b[39msale_price_decimal_count\u001b[38;5;241m!=\u001b[39m\u001b[38;5;241m1\u001b[39m]\n",
      "\u001b[0;31mNameError\u001b[0m: name 'prices' is not defined"
     ]
    }
   ],
   "source": [
    "temp = prices.copy()\n",
    "temp[temp.sale_price_decimal_count!=1]"
   ]
  },
  {
   "cell_type": "code",
   "execution_count": 2,
   "id": "a8692c56-63c0-45b2-9f78-8b3511c5cbbf",
   "metadata": {},
   "outputs": [
    {
     "ename": "NameError",
     "evalue": "name 'temp' is not defined",
     "output_type": "error",
     "traceback": [
      "\u001b[0;31m---------------------------------------------------------------------------\u001b[0m",
      "\u001b[0;31mNameError\u001b[0m                                 Traceback (most recent call last)",
      "Cell \u001b[0;32mIn[2], line 2\u001b[0m\n\u001b[1;32m      1\u001b[0m temp \u001b[38;5;241m=\u001b[39m (\n\u001b[0;32m----> 2\u001b[0m     temp\u001b[38;5;241m.\u001b[39massign(\n\u001b[1;32m      3\u001b[0m         sale_price_split \u001b[38;5;241m=\u001b[39m \u001b[38;5;28;01mlambda\u001b[39;00m x: x[\u001b[38;5;124m'\u001b[39m\u001b[38;5;124msale_price\u001b[39m\u001b[38;5;124m'\u001b[39m]\u001b[38;5;241m.\u001b[39mstr\u001b[38;5;241m.\u001b[39msplit(\u001b[38;5;124mr\u001b[39m\u001b[38;5;124m'\u001b[39m\u001b[38;5;124m\\\u001b[39m\u001b[38;5;124m.\u001b[39m\u001b[38;5;124m'\u001b[39m),\n\u001b[1;32m      4\u001b[0m         decimal_places \u001b[38;5;241m=\u001b[39m \u001b[38;5;28;01mlambda\u001b[39;00m x: \u001b[38;5;28mlen\u001b[39m(x[\u001b[38;5;124m'\u001b[39m\u001b[38;5;124msale_price_split\u001b[39m\u001b[38;5;124m'\u001b[39m][\u001b[38;5;241m1\u001b[39m]))\n\u001b[1;32m      5\u001b[0m )\n\u001b[1;32m      6\u001b[0m temp\u001b[38;5;241m.\u001b[39mhead(\u001b[38;5;241m5\u001b[39m)\n",
      "\u001b[0;31mNameError\u001b[0m: name 'temp' is not defined"
     ]
    }
   ],
   "source": [
    "temp = (\n",
    "    temp.assign(\n",
    "        sale_price_split = lambda x: x['sale_price'].str.split(r'\\.'),\n",
    "        decimal_places = lambda x: len(x['sale_price_split'][1]))\n",
    ")\n",
    "temp.head(5)"
   ]
  },
  {
   "cell_type": "code",
   "execution_count": 3,
   "id": "0c5993b5-5c84-4356-8091-d6d0dfd82e9b",
   "metadata": {},
   "outputs": [
    {
     "ename": "NameError",
     "evalue": "name 'temp' is not defined",
     "output_type": "error",
     "traceback": [
      "\u001b[0;31m---------------------------------------------------------------------------\u001b[0m",
      "\u001b[0;31mNameError\u001b[0m                                 Traceback (most recent call last)",
      "Cell \u001b[0;32mIn[3], line 1\u001b[0m\n\u001b[0;32m----> 1\u001b[0m temp[temp\u001b[38;5;241m.\u001b[39mdecimal_places \u001b[38;5;241m!=\u001b[39m \u001b[38;5;241m2\u001b[39m]\n",
      "\u001b[0;31mNameError\u001b[0m: name 'temp' is not defined"
     ]
    }
   ],
   "source": [
    "temp[temp.decimal_places != 2]"
   ]
  },
  {
   "cell_type": "code",
   "execution_count": null,
   "id": "0ee7880a-54d9-4484-b28b-633de6917a9a",
   "metadata": {},
   "outputs": [],
   "source": []
  },
  {
   "cell_type": "code",
   "execution_count": null,
   "id": "d6553617-6840-485a-8143-58d15ba6a546",
   "metadata": {},
   "outputs": [],
   "source": []
  },
  {
   "cell_type": "markdown",
   "id": "b65f7649-e86b-4cd3-9a67-2616df7f0c93",
   "metadata": {},
   "source": [
    "### Transform orderlines.unit_price to floats"
   ]
  },
  {
   "cell_type": "code",
   "execution_count": null,
   "id": "fd35871d-2b16-43e4-84c0-6655d818edbd",
   "metadata": {},
   "outputs": [],
   "source": [
    "def transform_unit_price_to_floats(df):\n",
    "    \"\"\"\n",
    "    Transform the orderlines.unit_price price column to floats.\n",
    "    Some of the values have two decimal points. \n",
    "    For these values we will remove the leftmost decimal and transform all values to floats.\n",
    "    The correct position of the decimal point will be determined by merging orderlines, \n",
    "    products, orders and brands, and comparing the price values.\n",
    "    \n",
    "    Args:\n",
    "        df (pd.DataFrame): The orderlines data\n",
    "    \n",
    "    Returns:\n",
    "        pd.DataFrame: The orderlines data with the unit_price column transformed from str to float values.\n",
    "    \"\"\"\n",
    "    return (\n",
    "        df.assign(unit_price = df.unit_price.str.split('.')\n",
    "                  .apply(lambda x : x[0]+x[1]+'.'+x[2] if len(x)==3 else x[0]+'.'+ x[1])\n",
    "                  .astype(float)\n",
    "        )\n",
    "    )\n",
    "    "
   ]
  },
  {
   "cell_type": "code",
   "execution_count": null,
   "id": "3b7b282f-8854-4966-b931-7311d0eb4841",
   "metadata": {},
   "outputs": [],
   "source": []
  },
  {
   "cell_type": "code",
   "execution_count": null,
   "id": "ffb53c24-b398-47ec-bcc1-01857bdd837f",
   "metadata": {},
   "outputs": [],
   "source": []
  },
  {
   "cell_type": "code",
   "execution_count": null,
   "id": "dbc919d8-288f-4562-9f3f-022178f3967e",
   "metadata": {},
   "outputs": [],
   "source": [
    "completed_sales['regular_price'].str.count(r'\\.')"
   ]
  },
  {
   "cell_type": "code",
   "execution_count": null,
   "id": "cbde8507-199b-4289-8809-4a78267bb90b",
   "metadata": {},
   "outputs": [],
   "source": [
    "def split_str_on_dots_and_append_decimal(df, col):\n",
    "    '''Remove the decimal points from the strings and append .00'''\n",
    "    return df.assign(promo_price=df[col]\n",
    "                     .str.split('.')\n",
    "                     .str.join('')\n",
    "                     .apply(lambda x: x+'.00')\n",
    "                    )\n",
    "\n",
    "def _insert_decimal_at_string_position(s, pos):\n",
    "    '''Insert a decimal point at a given position in a string'''\n",
    "    s = s.split('.')\n",
    "    s = s[0] + s[1]\n",
    "    s = s[:pos]+'.'+s[pos:]\n",
    "    return s \n",
    "    \n",
    "def _insert_decimal_in_regular_price(row):\n",
    "    '''\n",
    "    Keep moving the decimal point towards the end of the regular_price \n",
    "    string until the sale_price is lower or equal to the price.\n",
    "    Then transform the regular_price string to a float and round it to two decimal places.\n",
    "    '''\n",
    "    decimal_position = 1\n",
    "    row.regular_price = _insert_decimal_at_string_position(row.regular_price, decimal_position)\n",
    "    \n",
    "    while float(row.regular_price) < row.sale_price:\n",
    "        if round(float(row.regular_price), 0) == round(row.sale_price, 0):\n",
    "            row.sale_price = round(float(row.price), 2)\n",
    "            return round(float(row.regular_price), 2)\n",
    "        else:\n",
    "            row.regular_price = _insert_decimal_at_string_position(row.regular_price, decimal_position)\n",
    "            decimal_position += 1\n",
    "\n",
    "    return round(float(row.price), 2)\n",
    "\n",
    "def transform_regular_price_to_float(df):\n",
    "    df.regular_price = [_insert_decimal_in_regular_price(row) for index, row in df.iterrows()]\n",
    "    return df"
   ]
  }
 ],
 "metadata": {
  "kernelspec": {
   "display_name": "Python 3 (ipykernel)",
   "language": "python",
   "name": "python3"
  },
  "language_info": {
   "codemirror_mode": {
    "name": "ipython",
    "version": 3
   },
   "file_extension": ".py",
   "mimetype": "text/x-python",
   "name": "python",
   "nbconvert_exporter": "python",
   "pygments_lexer": "ipython3",
   "version": "3.12.4"
  }
 },
 "nbformat": 4,
 "nbformat_minor": 5
}
