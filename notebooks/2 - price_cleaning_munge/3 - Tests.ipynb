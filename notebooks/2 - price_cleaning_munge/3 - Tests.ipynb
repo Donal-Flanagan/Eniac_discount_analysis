{
 "cells": [
  {
   "cell_type": "code",
   "execution_count": 1,
   "id": "f3e71463-ad69-4a03-843a-d3b51b6b7baf",
   "metadata": {},
   "outputs": [],
   "source": [
    "import re\n",
    "import numpy as np\n",
    "import pandas as pd\n",
    "import sys\n",
    "import os\n",
    "\n",
    "sys.path.append(os.path.abspath(os.path.join(os.getcwd(), '..')))\n",
    "\n",
    "import data_utils\n",
    "import price_debugging_tests as pdt"
   ]
  },
  {
   "cell_type": "markdown",
   "id": "13aee7ce-e874-4904-9341-5bd668678951",
   "metadata": {},
   "source": [
    "# Import and merge data"
   ]
  },
  {
   "cell_type": "code",
   "execution_count": 3,
   "id": "fa8812ba-d90b-4a01-821f-39706ca02837",
   "metadata": {},
   "outputs": [
    {
     "name": "stdout",
     "output_type": "stream",
     "text": [
      "5 missing values were removed from orders.\n",
      "This represents 0.0022% of the data.\n",
      "\n",
      "\n",
      "0 missing values were removed from orderlines.\n",
      "This represents 0.00% of the data.\n",
      "\n",
      "\n",
      "8792 missing values were removed from products\n",
      "This represents 45.49% of the data.\n",
      "\n",
      "\n",
      "0 missing values were removed from brands.\n",
      "This represents 0.00% of the data.\n",
      "\n",
      "\n"
     ]
    }
   ],
   "source": [
    "# Import the data\n",
    "orders = data_utils.clean_orders(data_path=\"../../data/\")\n",
    "orderlines = data_utils.clean_orderlines(data_path=\"../../data/\")\n",
    "products = data_utils.clean_products(data_path=\"../../data/\")\n",
    "brands = data_utils.clean_brands(data_path=\"../../data/\")\n",
    "\n",
    "# Merge the data\n",
    "completed_sales =  data_utils.merge_data(orders, orderlines, products, brands)"
   ]
  },
  {
   "cell_type": "markdown",
   "id": "62e41108-6386-40ab-a3dc-f2e817540bdf",
   "metadata": {},
   "source": [
    "## Create test data\n",
    "Extract values with only one decimal so they can be transformed to floats and separate them into passing test data and failing test data to check the tests work correctly. \n",
    "\n",
    "Passing test data: regular_price >= promo_price >= sale_price\n",
    "\n",
    "Failing test data: All of the data"
   ]
  },
  {
   "cell_type": "code",
   "execution_count": 9,
   "id": "c047cc2d-fac6-405d-a31a-e1272eab70c3",
   "metadata": {},
   "outputs": [
    {
     "name": "stdout",
     "output_type": "stream",
     "text": [
      "(41135, 12) (39858, 12)\n"
     ]
    }
   ],
   "source": [
    "def count_decimal_points(df):\n",
    "    prices = df[['orderline_id', 'total_paid', 'regular_price', 'sale_price']].copy()\n",
    "\n",
    "    prices['regular_price_decimal_count'] = prices['regular_price'].str.count(r'\\.')\n",
    "    prices['sale_price_decimal_count'] = prices['sale_price'].str.count(r'\\.')\n",
    "\n",
    "    return prices\n",
    "\n",
    "\n",
    "def generate_test_data(sales_df):\n",
    "    decimal_points_per_price = count_decimal_points(sales_df)\n",
    "    \n",
    "    # Extract a subset of the data with only one decimal point so we can transform the str values to floats and check our test logic.\n",
    "    test_data_ids = decimal_points_per_price[\n",
    "                        (decimal_points_per_price.regular_price_decimal_count == 1) & \n",
    "                        (decimal_points_per_price.sale_price_decimal_count == 1)\n",
    "                    ].orderline_id\n",
    "    test_data = sales_df[sales_df.orderline_id.isin(test_data_ids)].copy()\n",
    "\n",
    "    # Transform the price values to float.\n",
    "    test_data.regular_price = test_data.regular_price.astype(float)\n",
    "    test_data.sale_price = test_data.sale_price.astype(float)\n",
    "    \n",
    "    # This data is corrupted and should fail the tests\n",
    "    failing_test_data = test_data\n",
    "    \n",
    "    # This subset of the data has regular_price >= sale_price and should therefore (hopefully) be uncorrupted\n",
    "    passing_test_data = test_data[test_data.regular_price >= test_data.sale_price]\n",
    "\n",
    "    return failing_test_data, passing_test_data\n",
    "\n",
    "failing_test_data, passing_test_data = generate_test_data(completed_sales)\n",
    "\n",
    "print(failing_test_data.shape, passing_test_data.shape)"
   ]
  },
  {
   "cell_type": "code",
   "execution_count": null,
   "id": "e1a35758-b82a-417f-bbe5-e1c4f6d81f18",
   "metadata": {},
   "outputs": [],
   "source": [
    "''' INCLUDING TOTAL PRICE HERE\n",
    "NEED TO DECIDE IF I SHOULD MERGE ORDERLINES IN TEST DATA TO INCLUDE ORDERS WITH MULTIPLE PRODUCTS'''"
   ]
  },
  {
   "cell_type": "code",
   "execution_count": 12,
   "id": "5fdbfdcc-9d78-41b1-8f3a-016e8dd0c5e1",
   "metadata": {},
   "outputs": [
    {
     "name": "stdout",
     "output_type": "stream",
     "text": [
      "(41135, 12) (39703, 12)\n"
     ]
    }
   ],
   "source": [
    "def generate_test_data(sales_df):\n",
    "    decimal_points_per_price = count_decimal_points(sales_df)\n",
    "    \n",
    "    # Extract a subset of the data with only one decimal point so we can transform the str values to floats and check our test logic.\n",
    "    test_data_ids = decimal_points_per_price[\n",
    "                        (decimal_points_per_price.regular_price_decimal_count == 1) & \n",
    "                        (decimal_points_per_price.sale_price_decimal_count == 1)\n",
    "                    ].orderline_id\n",
    "    test_data = sales_df[sales_df.orderline_id.isin(test_data_ids)].copy()\n",
    "\n",
    "    # Transform the price values to float.\n",
    "    test_data.regular_price = test_data.regular_price.astype(float)\n",
    "    test_data.sale_price = test_data.sale_price.astype(float)\n",
    "    \n",
    "    # This data is corrupted and should fail the tests\n",
    "    failing_test_data = test_data\n",
    "    \n",
    "    # This subset of the data has regular_price >= sale_price and should therefore (hopefully) be uncorrupted\n",
    "    passing_test_data = test_data[(test_data.regular_price >= test_data.sale_price) & (test_data.sale_price <= test_data.total_paid)]\n",
    "\n",
    "    return failing_test_data, passing_test_data\n",
    "\n",
    "failing_test_data, passing_test_data = generate_test_data(completed_sales)\n",
    "\n",
    "print(failing_test_data.shape, passing_test_data.shape)"
   ]
  },
  {
   "cell_type": "code",
   "execution_count": null,
   "id": "2a73dad4-8568-41b6-bcba-344d2a42444a",
   "metadata": {},
   "outputs": [],
   "source": []
  },
  {
   "cell_type": "code",
   "execution_count": null,
   "id": "3f19e2b9-a93e-4281-8c75-9089002b477a",
   "metadata": {},
   "outputs": [],
   "source": []
  },
  {
   "cell_type": "code",
   "execution_count": null,
   "id": "5e4b799d-c47e-41f0-bec6-63a1423d3f5c",
   "metadata": {},
   "outputs": [],
   "source": []
  },
  {
   "cell_type": "code",
   "execution_count": null,
   "id": "0e64355a-5172-489e-b735-3b034a3ffa22",
   "metadata": {},
   "outputs": [],
   "source": []
  },
  {
   "cell_type": "code",
   "execution_count": null,
   "id": "9b1554ef-35ad-4a3e-8be5-984dd2abdab0",
   "metadata": {},
   "outputs": [],
   "source": []
  },
  {
   "cell_type": "code",
   "execution_count": null,
   "id": "d165214d-ce40-4239-9987-9e335cda9017",
   "metadata": {},
   "outputs": [],
   "source": []
  },
  {
   "cell_type": "markdown",
   "id": "bec57c9a-6e14-4227-9bde-2f475e7983c0",
   "metadata": {},
   "source": [
    "## Tests\n",
    "We will utilise tests that return data to help debug the logic for cleaning the price values.\n",
    "\n",
    "### Test prices greater or equal"
   ]
  },
  {
   "cell_type": "code",
   "execution_count": 13,
   "id": "331cbc4e-db58-403a-8b75-03f65204c4c7",
   "metadata": {},
   "outputs": [],
   "source": [
    "def test_col_vals_are_greater_or_equal_to_other(df, greater_col, lesser_col):\n",
    "    num_incorrect_vals = df[df[greater_col] < df[lesser_col]].shape[0]\n",
    "    if num_incorrect_vals == 0:\n",
    "        print(f\"All of the {greater_col} values are greater or equal to the corresponding {lesser_col} values.\\n\")\n",
    "        return pd.DataFrame()\n",
    "    else:\n",
    "        print(f\"There are corrupted values in {greater_col} which are less than their corresponding {lesser_col} values.\")\n",
    "        print(f\"This respresents {num_incorrect_vals/df.shape[0]*100:.2f}% of the data.\\n\")\n",
    "        corrupted_price_orderline_ids = df[df[greater_col] < df[lesser_col]].orderline_id\n",
    "        return corrupted_price_orderline_ids\n",
    "\n",
    "def test_regular_greater_or_equal_to_sale(df):\n",
    "    incorrect_val_ids = test_col_vals_are_greater_or_equal_to_other(df, 'regular_price', 'sale_price')\n",
    "    return incorrect_val_ids"
   ]
  },
  {
   "cell_type": "code",
   "execution_count": 14,
   "id": "d6ac05bc-d31e-4162-be87-2d87a4e1d11c",
   "metadata": {},
   "outputs": [
    {
     "name": "stdout",
     "output_type": "stream",
     "text": [
      "There are corrupted values in regular_price which are less than their corresponding sale_price values.\n",
      "This respresents 3.10% of the data.\n",
      "\n"
     ]
    }
   ],
   "source": [
    "regular_less_than_sale_orderline_ids = test_regular_greater_or_equal_to_sale(failing_test_data)"
   ]
  },
  {
   "cell_type": "code",
   "execution_count": 15,
   "id": "8cb6364b-5511-4881-9f98-fa57f3f8c7db",
   "metadata": {},
   "outputs": [
    {
     "name": "stdout",
     "output_type": "stream",
     "text": [
      "All of the regular_price values are greater or equal to the corresponding sale_price values.\n",
      "\n"
     ]
    }
   ],
   "source": [
    "regular_less_than_sale_orderline_ids = test_regular_greater_or_equal_to_sale(passing_test_data)"
   ]
  },
  {
   "cell_type": "markdown",
   "id": "9f64b7b7-89ed-495a-85fc-ac4da875df51",
   "metadata": {},
   "source": [
    "### Test total_paid"
   ]
  },
  {
   "cell_type": "code",
   "execution_count": 16,
   "id": "999780ee-6f42-4f7d-a19a-e5e265dac831",
   "metadata": {},
   "outputs": [
    {
     "name": "stdout",
     "output_type": "stream",
     "text": [
      "All 'total_paid' values are consistent for each 'order_id'.\n"
     ]
    }
   ],
   "source": [
    "def test_order_id_has_single_total_paid_value(df):\n",
    "    \"\"\"\n",
    "    A single order_id can have multiple lines corresponding to orderlines.\n",
    "    Each of these lines should have the same total_paid value\n",
    "    \"\"\"\n",
    "    \n",
    "    # Group by order_id and check the number of unique total_paid values for each group\n",
    "    inconsistent_orders = df.groupby('order_id')['total_paid'].nunique()\n",
    "    \n",
    "    # Filter for orders where there is more than 1 unique total_paid value\n",
    "    inconsistent_orders = inconsistent_orders[inconsistent_orders > 1]\n",
    "    \n",
    "    # Check if there are any inconsistencies\n",
    "    if not inconsistent_orders.empty:\n",
    "        print(\"Inconsistent 'total_paid' values found for the following order_ids:\")\n",
    "        print(inconsistent_orders)\n",
    "    else:\n",
    "        print(\"All 'total_paid' values are consistent for each 'order_id'.\")\n",
    "\n",
    "test_order_id_has_single_total_paid_value(completed_sales)"
   ]
  },
  {
   "cell_type": "code",
   "execution_count": 17,
   "id": "547eac1b-fd5e-44f4-a979-6dc772599161",
   "metadata": {},
   "outputs": [],
   "source": [
    "def test_order_total_paid_equal_sum_of_orderlines(df):\n",
    "    \"\"\"\n",
    "    Group by order_id and calculate the sum of sale_price*product_quantity for all orderline_ids\n",
    "    \"\"\"\n",
    "    grouped_orderlines = df.groupby('order_id').apply(\n",
    "        lambda x: pd.Series({\n",
    "            'calculated_total': (x['product_quantity'] * x['sale_price']).sum(),\n",
    "            'total_paid': x['total_paid'].iloc[0]  # Total paid is the same for all rows in the group\n",
    "        }),\n",
    "        include_groups=False\n",
    "    )\n",
    "\n",
    "    # Compare calculated_total with total_paid\n",
    "    incorrect_orders = grouped_orderlines[grouped_orderlines['calculated_total'] != grouped_orderlines['total_paid']]\n",
    "    \n",
    "    if incorrect_orders.empty:\n",
    "        print(\"All orders have total_paid values equal to the sum of product_quantity * sale_price.\")\n",
    "        return pd.DataFrame()\n",
    "    else:\n",
    "        print(f\"There are {incorrect_orders.shape[0]} orders where total_paid does not match the sum of product_quantity * sale_price.\")\n",
    "        print(f\"This respresents {incorrect_orders.shape[0]/df.shape[0]*100:.2f}% of the data.\\n\")\n",
    "        return incorrect_orders"
   ]
  },
  {
   "cell_type": "code",
   "execution_count": 18,
   "id": "2b845148-eb42-40c2-bd22-c287ca0810ad",
   "metadata": {},
   "outputs": [
    {
     "name": "stdout",
     "output_type": "stream",
     "text": [
      "There are 26590 orders where total_paid does not match the sum of product_quantity * sale_price.\n",
      "This respresents 64.64% of the data.\n",
      "\n"
     ]
    }
   ],
   "source": [
    "incorrect_total_price = test_order_total_paid_equal_sum_of_orderlines(failing_test_data)"
   ]
  },
  {
   "cell_type": "code",
   "execution_count": 19,
   "id": "19d325b4-c3e9-4e22-8d46-a1b0fd6dc0e8",
   "metadata": {},
   "outputs": [
    {
     "name": "stdout",
     "output_type": "stream",
     "text": [
      "There are 25806 orders where total_paid does not match the sum of product_quantity * sale_price.\n",
      "This respresents 65.00% of the data.\n",
      "\n"
     ]
    }
   ],
   "source": [
    "incorrect_total_price = test_order_total_paid_equal_sum_of_orderlines(passing_test_data)"
   ]
  },
  {
   "cell_type": "markdown",
   "id": "36ac2d2e-988f-4bdd-abc6-36f7eb1edc2b",
   "metadata": {},
   "source": [
    "<div class=\"alert alert-block alert-danger\">\n",
    "    Even when regular_price >= sale_price the sale price values do not match the total_paid per order.\n",
    "    <br><br>\n",
    "    It is possible that the difference in price is due to shipping costs, which are not included in the dataset.\n",
    "    <br><br>\n",
    "    Even though the 'passing' test data is clearly not as clean as we had hoped. We will leave as is for now so it can be used to debug why the prices do not match total_paid.\n",
    "</div>"
   ]
  },
  {
   "cell_type": "code",
   "execution_count": null,
   "id": "1a1efd9b-394f-4d30-9462-10261ff5fd88",
   "metadata": {},
   "outputs": [],
   "source": []
  }
 ],
 "metadata": {
  "kernelspec": {
   "display_name": "Python 3 (ipykernel)",
   "language": "python",
   "name": "python3"
  },
  "language_info": {
   "codemirror_mode": {
    "name": "ipython",
    "version": 3
   },
   "file_extension": ".py",
   "mimetype": "text/x-python",
   "name": "python",
   "nbconvert_exporter": "python",
   "pygments_lexer": "ipython3",
   "version": "3.12.4"
  }
 },
 "nbformat": 4,
 "nbformat_minor": 5
}
