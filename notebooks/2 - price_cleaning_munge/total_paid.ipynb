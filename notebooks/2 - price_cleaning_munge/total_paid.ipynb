{
 "cells": [
  {
   "cell_type": "code",
   "execution_count": 1,
   "id": "475bf04f-c256-4c73-a46e-92169932c7c1",
   "metadata": {},
   "outputs": [],
   "source": [
    "import re\n",
    "import numpy as np\n",
    "import pandas as pd\n",
    "import sys\n",
    "import os\n",
    "\n",
    "sys.path.append(os.path.abspath(os.path.join(os.getcwd(), '..')))\n",
    "\n",
    "import data_utils"
   ]
  },
  {
   "cell_type": "markdown",
   "id": "5a4ee750-9bdf-4d52-95d2-2fc9cebc7f45",
   "metadata": {},
   "source": [
    "## Import and merge data"
   ]
  },
  {
   "cell_type": "code",
   "execution_count": 2,
   "id": "3c98bdb7-f55a-4980-94c4-b42592c157b1",
   "metadata": {},
   "outputs": [
    {
     "name": "stdout",
     "output_type": "stream",
     "text": [
      "5 missing values were removed from orders.\n",
      "This represents 0.0022% of the data.\n",
      "\n",
      "\n",
      "0 missing values were removed from orderlines.\n",
      "This represents 0.00% of the data.\n",
      "\n",
      "\n",
      "8792 missing values were removed from products\n",
      "This represents 45.49% of the data.\n",
      "\n",
      "\n",
      "0 missing values were removed from brands.\n",
      "This represents 0.00% of the data.\n",
      "\n",
      "\n"
     ]
    }
   ],
   "source": [
    "# Import the data\n",
    "orders = data_utils.clean_orders(data_path=\"../../data/\")\n",
    "orderlines = data_utils.clean_orderlines(data_path=\"../../data/\")\n",
    "products = data_utils.clean_products(data_path=\"../../data/\")\n",
    "brands = data_utils.clean_brands(data_path=\"../../data/\")\n",
    "\n",
    "# Merge the data\n",
    "completed_sales =  data_utils.merge_data(orders, orderlines, products, brands)"
   ]
  },
  {
   "cell_type": "code",
   "execution_count": null,
   "id": "7cba1962-77a4-480b-954a-10f51eb3f377",
   "metadata": {},
   "outputs": [],
   "source": []
  }
 ],
 "metadata": {
  "kernelspec": {
   "display_name": "Python 3 (ipykernel)",
   "language": "python",
   "name": "python3"
  },
  "language_info": {
   "codemirror_mode": {
    "name": "ipython",
    "version": 3
   },
   "file_extension": ".py",
   "mimetype": "text/x-python",
   "name": "python",
   "nbconvert_exporter": "python",
   "pygments_lexer": "ipython3",
   "version": "3.12.4"
  }
 },
 "nbformat": 4,
 "nbformat_minor": 5
}
