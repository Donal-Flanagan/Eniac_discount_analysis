{
 "cells": [
  {
   "cell_type": "markdown",
   "id": "830f77c6-0f49-4d16-b4ea-dad0e93992ba",
   "metadata": {},
   "source": [
    "# Data overview\n",
    "\n",
    "## orders.csv \n",
    "Every row in this file represents an order.\n",
    "\n",
    "* **order_id** – a unique identifier for each order\n",
    "* **created_date** – a timestamp for when the order was created\n",
    "* **total_paid** – the total amount paid by the customer for this order, in euros\n",
    "* **state** –\n",
    "    * “Shopping basket” - products have been placed in the shopping basket\n",
    "    - “Place Order” – the order has been placed, but is awaiting shipment details \n",
    "    - “Pending” – the order is awaiting payment confirmation\n",
    "    - “Completed” – the order has been placed and paid, and the transaction is completed.\n",
    "    - “Cancelled” – the order has been cancelled and the payment returned to the customer.\n",
    "\n",
    "## orderlines.csv \n",
    "Every row represents each one of the different products involved in an order.\n",
    "\n",
    "* **id** – a unique identifier for each row in this file\n",
    "* **id_order** – corresponds to orders.order_id\n",
    "* **product_id** – an old identifier for each product, nowadays not in use\n",
    "* **product_quantity** – how many units of that product were purchased on that order\n",
    "* **sku** – stock keeping unit: a unique identifier for each product\n",
    "* **unit_price** – the unitary price (in euros) of each product at the moment of placing that order\n",
    "* **date** – timestamp for the processing of that product\n",
    "\n",
    "## products.csv\n",
    "\n",
    "* **sku** – stock keeping unit: a unique identifier for each product\n",
    "* **name** – product name\n",
    "* **desc** – product description\n",
    "* **price** – base price of the product, in euros\n",
    "* **promo_price** – promotional price, in euros\n",
    "* **in_stock** – whether or not the product was in stock at the moment of the data extraction\n",
    "* **type** – a numerical code for product type\n",
    "\n",
    "## brands.csv\n",
    "\n",
    "* **short** – the 3-character code by which the brand can be identified in the first 3 characters of products.sku\n",
    "* **long** – brand name"
   ]
  },
  {
   "cell_type": "markdown",
   "id": "b45fe24e-13e3-4abe-a26b-ad9557890dd2",
   "metadata": {},
   "source": [
    "# Data cleaning\n",
    "## Import the data"
   ]
  },
  {
   "cell_type": "code",
   "execution_count": 2,
   "id": "5db0552b-0f28-46ae-a653-e82ee2ca0921",
   "metadata": {},
   "outputs": [],
   "source": [
    "import pandas as pd\n",
    "import numpy as np\n",
    "import re\n",
    "\n",
    "path = '../data/'\n",
    "orderlines = pd.read_csv(path + 'orderlines.csv', \n",
    "                                  dtype={'id': int, \n",
    "                                         'id_order': int, \n",
    "                                         'product_id': int,\n",
    "                                         'product_qunatity': int,\n",
    "                                         'sku': str, \n",
    "                                         'unit_price': str}, \n",
    "                                  parse_dates=['date'])\n",
    "\n",
    "orders = pd.read_csv(path + 'orders.csv', \n",
    "                              dtype={'order_id': int, \n",
    "                                     'total_paid': float, \n",
    "                                     'state': str}, \n",
    "                              parse_dates=['created_date'])\n",
    "\n",
    "brands = pd.read_csv(path + 'brands.csv',\n",
    "                     dtype={'short': str, \n",
    "                            'long': str})\n",
    "\n",
    "products = pd.read_csv(path + 'products.csv',\n",
    "                       dtype={'sku': str, \n",
    "                              'name': str, \n",
    "                              'desc': str,\n",
    "                              'price': str,\n",
    "                              'promo_price': str, \n",
    "                              'in_stock': int,\n",
    "                              'type': str})"
   ]
  },
  {
   "cell_type": "markdown",
   "id": "ca8c13b4-8c6b-47f1-b8b4-a042ac0f1e46",
   "metadata": {},
   "source": [
    "## Initial cleaning process\n",
    "### Clean orders"
   ]
  },
  {
   "cell_type": "code",
   "execution_count": 3,
   "id": "6f58b9f7-2fb7-4546-8a37-ff1bfa0f2bdf",
   "metadata": {},
   "outputs": [
    {
     "name": "stdout",
     "output_type": "stream",
     "text": [
      "5 missing values were removed from orders.\n",
      "This represents 0.00% of the data.\n",
      "orders.shape: (226909, 4)\n",
      "orders_clean.shape: (226904, 4)\n"
     ]
    }
   ],
   "source": [
    "def start_pipeline(df):\n",
    "    '''Make a copy of the pipeline to prevent corrupting the original data'''\n",
    "    return df.copy()\n",
    "\n",
    "def remove_missing_data(df, col):\n",
    "    return df[~df[col].isna()]\n",
    "\n",
    "    \n",
    "orders_clean = (orders\n",
    "                .pipe(start_pipeline)\n",
    "                .pipe(remove_missing_data, col='total_paid')\n",
    "                )\n",
    "\n",
    "print(f\"{orders.shape[0]-orders_clean.shape[0]} missing values were removed from orders.\")\n",
    "print(f\"This represents {(orders.shape[0]-orders_clean.shape[0])/orders.shape[0] * 100:.2f}% of the data.\")\n",
    "print(f\"orders.shape: {orders.shape}\")\n",
    "print(f\"orders_clean.shape: {orders_clean.shape}\")\n",
    "\n",
    "# Save the data\n",
    "orders_clean.to_csv(path + 'orders_clean.csv', index=False)"
   ]
  },
  {
   "cell_type": "markdown",
   "id": "f3265c07-ff9e-45c8-b114-8d6cff3514d5",
   "metadata": {},
   "source": [
    "### Clean orderlines"
   ]
  },
  {
   "cell_type": "code",
   "execution_count": 4,
   "id": "f042a824-68d3-4781-beae-2b0b14059dcf",
   "metadata": {},
   "outputs": [
    {
     "name": "stdout",
     "output_type": "stream",
     "text": [
      "0 missing values were removed from orderlines.\n",
      "This represents 0.00% of the data.\n",
      "orderlines.shape: (293983, 7)\n",
      "orderlines_clean.shape: (293983, 7)\n"
     ]
    }
   ],
   "source": [
    "def drop_deprecated_columns(df, col_list):\n",
    "    return (df\n",
    "            .drop(col_list, axis=1)\n",
    "           )\n",
    "\n",
    "def rename_columns(df, col_name_dict):\n",
    "    return (df\n",
    "            .rename(columns=col_name_dict)\n",
    "           )\n",
    "\n",
    "# Transform the unit_price price column to floats\n",
    "def transform_unit_price_to_floats(df):\n",
    "    return (\n",
    "        df.assign(unit_price = df.unit_price.str.split('.')\n",
    "                  .apply(lambda x : x[0]+x[1]+'.'+x[2] if len(x)==3 else x[0]+'.'+ x[1])\n",
    "                  .astype(float)\n",
    "        )\n",
    "    )\n",
    "\n",
    "def create_short_col(df):\n",
    "    return df.assign(short = lambda row: row['sku'].str[:3])\n",
    "\n",
    "orderlines_clean = (orderlines\n",
    "                    .pipe(start_pipeline)\n",
    "                    .pipe(drop_deprecated_columns, col_list=['product_id'])\n",
    "                    .pipe(rename_columns, {'id_order': 'order_id'})\n",
    "                    .pipe(transform_unit_price_to_floats)\n",
    "                    .pipe(create_short_col)\n",
    "                    )\n",
    "\n",
    "print(f\"{orderlines.shape[0]-orderlines_clean.shape[0]} missing values were removed from orderlines.\")\n",
    "print(f\"This represents {(orderlines.shape[0]-orderlines_clean.shape[0])/orderlines.shape[0] * 100:.2f}% of the data.\")\n",
    "print(f\"orderlines.shape: {orderlines.shape}\")\n",
    "print(f\"orderlines_clean.shape: {orderlines_clean.shape}\")\n",
    "\n",
    "# Save the data\n",
    "orderlines_clean.to_csv(path + 'orderlines_clean.csv', index=False)"
   ]
  },
  {
   "cell_type": "markdown",
   "id": "731c24b6-1428-498c-85bd-2988cd415e73",
   "metadata": {},
   "source": [
    "### Clean products"
   ]
  },
  {
   "cell_type": "code",
   "execution_count": 5,
   "id": "745eb8e1-16a5-42c0-8034-c2c4fa5e62e0",
   "metadata": {},
   "outputs": [
    {
     "name": "stdout",
     "output_type": "stream",
     "text": [
      "8792 missing values were removed from products\n",
      "This represents 45.49% of the data.\n",
      "products.shape: (19326, 7)\n",
      "products_clean.shape: (10534, 5)\n"
     ]
    }
   ],
   "source": [
    "# Check for products without descriptions\n",
    "names_of_products_without_descriptions = products[products.desc.isna()].name.tolist()\n",
    "\n",
    "# Add missing descriptions\n",
    "missing_product_descriptions = [\n",
    "    '2TB Mac hard drive and Nas',\n",
    "    'Apple keyboard for iPad 9.7',\n",
    "    'NAS server with 10GB RAM',\n",
    "    'Ethernet adapter for Macbook 12',\n",
    "    'Luxury power bank combined with powder, 2 mirrors - normal and 3x magnification, Illuminated under mirror with LED, Low weight and compact dimensions',\n",
    "    'Battery capacity: 20,000 mAh; ultra-stable: outer shell made of durable synthetic rubber (military standard, withstands drops from up to 2 metres) ; protection: dust and splash proof: military standard iP54; battery level indicator and super fast charging; USB port can be connected to charger and other devices',\n",
    "    'Smart thermostat designed to provide automatic time and temperature control of heating systems in homes and apartments. '\n",
    "]\n",
    "\n",
    "def add_missing_product_descriptions(df):\n",
    "    for i in range(len(names_of_products_without_descriptions)):\n",
    "        df.loc[df.name == names_of_products_without_descriptions[i], 'desc'] = missing_product_descriptions[i]\n",
    "    return df\n",
    "\n",
    "def drop_duplicate_rows_by_column(df, col):\n",
    "    return df.drop_duplicates(subset=col)\n",
    "\n",
    "\n",
    "products_clean = (products\n",
    "        .pipe(start_pipeline)\n",
    "        .pipe(drop_deprecated_columns, col_list=['type', 'in_stock']) \n",
    "        .pipe(add_missing_product_descriptions)\n",
    "        .pipe(remove_missing_data, col='price')\n",
    "        .pipe(drop_duplicate_rows_by_column, 'sku')\n",
    ")\n",
    "\n",
    "print(f\"{products.shape[0]-products_clean.shape[0]} missing values were removed from products\")\n",
    "print(f\"This represents {(products.shape[0]-products_clean.shape[0])/products.shape[0] * 100:.2f}% of the data.\")\n",
    "print(f\"products.shape: {products.shape}\")\n",
    "print(f\"products_clean.shape: {products_clean.shape}\")\n",
    "\n",
    "# Save the data\n",
    "products_clean.to_csv(path + 'products_clean.csv', index=False)"
   ]
  },
  {
   "cell_type": "code",
   "execution_count": 6,
   "id": "516143af-fd3c-472c-afa4-00e695cf715d",
   "metadata": {},
   "outputs": [
    {
     "ename": "SyntaxError",
     "evalue": "invalid syntax (2470370307.py, line 1)",
     "output_type": "error",
     "traceback": [
      "\u001b[0;36m  Cell \u001b[0;32mIn[6], line 1\u001b[0;36m\u001b[0m\n\u001b[0;31m    8792 missing values were removed from products\u001b[0m\n\u001b[0m         ^\u001b[0m\n\u001b[0;31mSyntaxError\u001b[0m\u001b[0;31m:\u001b[0m invalid syntax\n"
     ]
    }
   ],
   "source": [
    "8792 missing values were removed from products\n",
    "This represents 45.49% of the data.\n",
    "products.shape: (19326, 7)\n",
    "products_clean.shape: (10534, 5)\n",
    "\n",
    "products_clean"
   ]
  },
  {
   "cell_type": "code",
   "execution_count": null,
   "id": "91171e65-af2a-4921-8204-205c368d092c",
   "metadata": {},
   "outputs": [],
   "source": [
    "pd.set_option('display.max_colwidth', None)\n",
    "\n",
    "print(products_clean.loc[products_clean.name == names_of_products_without_descriptions[4], ['name', 'desc']])\n",
    "\n",
    "pd.reset_option('display.max_colwidth')"
   ]
  },
  {
   "cell_type": "code",
   "execution_count": 7,
   "id": "b820a49d-97fe-49a1-9952-2b920095114a",
   "metadata": {},
   "outputs": [
    {
     "data": {
      "text/plain": [
       "['Open - Purple 2TB WD 35 \"PC Security Mac hard drive and NAS',\n",
       " 'Open - Apple Smart Keyboard Pro Keyboard Folio iPad 9.7 \"',\n",
       " 'Synology DS718 + NAS Server | 10GB RAM',\n",
       " 'Open - Kanex USB-C Gigabit Ethernet Adapter MacBook 12 \"',\n",
       " 'Hyper Pearl 1600mAh battery Mini USB Mirror and Comic Blond',\n",
       " 'OtterBox External Battery Power Pack 20000 mAHr',\n",
       " 'Open - Honeywell thermostat Lyric zonificador T6 Intelligent Wireless (cable)']"
      ]
     },
     "execution_count": 7,
     "metadata": {},
     "output_type": "execute_result"
    }
   ],
   "source": [
    "# Check for products without descriptions\n",
    "names_of_products_without_descriptions = products[products.desc.isna()].name.tolist()\n",
    "names_of_products_without_descriptions"
   ]
  },
  {
   "cell_type": "code",
   "execution_count": null,
   "id": "70f6f428-b69b-450a-9afa-8398ecb97d15",
   "metadata": {},
   "outputs": [],
   "source": [
    "# Check for products without descriptions\n",
    "names_of_products_without_descriptions = products[products.desc.isna()].name.tolist()\n",
    "\n",
    "# Add missing descriptions\n",
    "missing_product_descriptions = [\n",
    "    '2TB Mac hard drive and Nas',\n",
    "    'Apple keyboard for iPad 9.7',\n",
    "    'NAS server with 10GB RAM',\n",
    "    'Ethernet adapter for Macbook 12',\n",
    "    'Luxury power bank combined with powder, 2 mirrors - normal and 3x magnification, Illuminated under mirror with LED, Low weight and compact dimensions',\n",
    "    'Battery capacity: 20,000 mAh; ultra-stable: outer shell made of durable synthetic rubber (military standard, withstands drops from up to 2 metres) ; protection: dust and splash proof: military standard iP54; battery level indicator and super fast charging; USB port can be connected to charger and other devices',\n",
    "    'Smart thermostat designed to provide automatic time and temperature control of heating systems in homes and apartments. '\n",
    "]\n",
    "\n",
    "def add_missing_product_descriptions(df):\n",
    "    for i in range(len(names_of_products_without_descriptions)):\n",
    "        df.loc[df.name == names_of_products_without_descriptions[i], 'desc'] = missing_product_descriptions[i]\n",
    "    return df"
   ]
  }
 ],
 "metadata": {
  "kernelspec": {
   "display_name": "Python 3 (ipykernel)",
   "language": "python",
   "name": "python3"
  },
  "language_info": {
   "codemirror_mode": {
    "name": "ipython",
    "version": 3
   },
   "file_extension": ".py",
   "mimetype": "text/x-python",
   "name": "python",
   "nbconvert_exporter": "python",
   "pygments_lexer": "ipython3",
   "version": "3.12.4"
  }
 },
 "nbformat": 4,
 "nbformat_minor": 5
}
